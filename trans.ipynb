{
 "cells": [
  {
   "cell_type": "code",
   "execution_count": null,
   "metadata": {},
   "outputs": [
    {
     "name": "stdout",
     "output_type": "stream",
     "text": [
      " * Serving Flask app \"__main__\" (lazy loading)\n",
      " * Environment: production\n",
      "   WARNING: This is a development server. Do not use it in a production deployment.\n",
      "   Use a production WSGI server instead.\n",
      " * Debug mode: off\n"
     ]
    },
    {
     "name": "stderr",
     "output_type": "stream",
     "text": [
      " * Running on http://127.0.0.1:5000/ (Press CTRL+C to quit)\n",
      "127.0.0.1 - - [26/Jul/2020 21:57:11] \"\u001b[37mGET / HTTP/1.1\u001b[0m\" 200 -\n",
      "127.0.0.1 - - [26/Jul/2020 21:57:11] \"\u001b[37mGET /static/img/mic.png HTTP/1.1\u001b[0m\" 200 -\n",
      "127.0.0.1 - - [26/Jul/2020 21:57:11] \"\u001b[37mGET /static/styles/bootstrap.css HTTP/1.1\u001b[0m\" 200 -\n",
      "127.0.0.1 - - [26/Jul/2020 21:57:12] \"\u001b[33mGET /favicon.ico HTTP/1.1\u001b[0m\" 404 -\n",
      "127.0.0.1 - - [26/Jul/2020 21:58:48] \"\u001b[37mPOST /profile HTTP/1.1\u001b[0m\" 200 -\n",
      "127.0.0.1 - - [26/Jul/2020 21:58:48] \"\u001b[37mGET /static/img/shani.jpg HTTP/1.1\u001b[0m\" 200 -\n",
      "127.0.0.1 - - [26/Jul/2020 21:58:48] \"\u001b[37mGET /static/img/linkedin.png HTTP/1.1\u001b[0m\" 200 -\n",
      "127.0.0.1 - - [26/Jul/2020 21:58:48] \"\u001b[37mGET /static/img/insta.png HTTP/1.1\u001b[0m\" 200 -\n",
      "127.0.0.1 - - [26/Jul/2020 21:58:48] \"\u001b[37mGET /static/img/twitter.png HTTP/1.1\u001b[0m\" 200 -\n",
      "127.0.0.1 - - [26/Jul/2020 22:04:52] \"\u001b[37mPOST /profile HTTP/1.1\u001b[0m\" 200 -\n"
     ]
    }
   ],
   "source": [
    "# %%writefile app.py\n",
    "from flask import*\n",
    "import speech_recognition as sr\n",
    "from playsound import playsound\n",
    "from googletrans import Translator\n",
    "app=Flask(__name__)\n",
    "\n",
    "@app.route(\"/\")\n",
    "def home():\n",
    "    return render_template(\"index.html\")\n",
    "   \n",
    "\n",
    "@app.route(\"/translate\",methods=[\"POST\"])\n",
    "def translate():\n",
    "    if request.form['btn']==\"speak\":\n",
    "        val=request.form['a']\n",
    "        r=sr.Recognizer()\n",
    "        with sr.Microphone() as src:\n",
    "            r.adjust_for_ambient_noise(src)\n",
    "            playsound(\"say.mp3\")\n",
    "            audio=r.listen(src)\n",
    "            playsound(\"time1.mp3\")\n",
    "            try:\n",
    "                a=r.recognize_google(audio,language=val)\n",
    "                return render_template(\"index.html\",out=a)\n",
    "            except:\n",
    "                return redirect(url_for(\"home\"))\n",
    "                       \n",
    "    elif request.form['btn']==\"Translate\":\n",
    "            try:\n",
    "                t=Translator()\n",
    "                txt1=request.form['a']\n",
    "                txt2=request.form['b']\n",
    "                txt3=request.form['txtarea']\n",
    "                result=t.translate(txt3,src=txt1,dest=txt2)\n",
    "                return render_template(\"index.html\",r=result.text)\n",
    "            except:\n",
    "                return redirect(url_for(\"home\"))\n",
    "\n",
    "@app.route(\"/profile\",methods=[\"POST\"])\n",
    "def profile():\n",
    "    return render_template(\"index2.html\")\n",
    "    \n",
    "if __name__==\"__main__\":\n",
    "    app.run()"
   ]
  },
  {
   "cell_type": "code",
   "execution_count": 1,
   "metadata": {},
   "outputs": [],
   "source": [
    "from googletrans import Translator\n",
    "import googletrans as g"
   ]
  },
  {
   "cell_type": "code",
   "execution_count": 2,
   "metadata": {},
   "outputs": [],
   "source": [
    "a=g.LANGUAGES"
   ]
  },
  {
   "cell_type": "code",
   "execution_count": 9,
   "metadata": {},
   "outputs": [
    {
     "name": "stdout",
     "output_type": "stream",
     "text": [
      "<option value='af'>afrikaans</option>\n",
      "<option value='sq'>albanian</option>\n",
      "<option value='am'>amharic</option>\n",
      "<option value='ar'>arabic</option>\n",
      "<option value='hy'>armenian</option>\n",
      "<option value='az'>azerbaijani</option>\n",
      "<option value='eu'>basque</option>\n",
      "<option value='be'>belarusian</option>\n",
      "<option value='bn'>bengali</option>\n",
      "<option value='bs'>bosnian</option>\n",
      "<option value='bg'>bulgarian</option>\n",
      "<option value='ca'>catalan</option>\n",
      "<option value='ceb'>cebuano</option>\n",
      "<option value='ny'>chichewa</option>\n",
      "<option value='zh-cn'>chinese (simplified)</option>\n",
      "<option value='zh-tw'>chinese (traditional)</option>\n",
      "<option value='co'>corsican</option>\n",
      "<option value='hr'>croatian</option>\n",
      "<option value='cs'>czech</option>\n",
      "<option value='da'>danish</option>\n",
      "<option value='nl'>dutch</option>\n",
      "<option value='en'>english</option>\n",
      "<option value='eo'>esperanto</option>\n",
      "<option value='et'>estonian</option>\n",
      "<option value='tl'>filipino</option>\n",
      "<option value='fi'>finnish</option>\n",
      "<option value='fr'>french</option>\n",
      "<option value='fy'>frisian</option>\n",
      "<option value='gl'>galician</option>\n",
      "<option value='ka'>georgian</option>\n",
      "<option value='de'>german</option>\n",
      "<option value='el'>greek</option>\n",
      "<option value='gu'>gujarati</option>\n",
      "<option value='ht'>haitian creole</option>\n",
      "<option value='ha'>hausa</option>\n",
      "<option value='haw'>hawaiian</option>\n",
      "<option value='iw'>hebrew</option>\n",
      "<option value='he'>hebrew</option>\n",
      "<option value='hi'>hindi</option>\n",
      "<option value='hmn'>hmong</option>\n",
      "<option value='hu'>hungarian</option>\n",
      "<option value='is'>icelandic</option>\n",
      "<option value='ig'>igbo</option>\n",
      "<option value='id'>indonesian</option>\n",
      "<option value='ga'>irish</option>\n",
      "<option value='it'>italian</option>\n",
      "<option value='ja'>japanese</option>\n",
      "<option value='jw'>javanese</option>\n",
      "<option value='kn'>kannada</option>\n",
      "<option value='kk'>kazakh</option>\n",
      "<option value='km'>khmer</option>\n",
      "<option value='ko'>korean</option>\n",
      "<option value='ku'>kurdish (kurmanji)</option>\n",
      "<option value='ky'>kyrgyz</option>\n",
      "<option value='lo'>lao</option>\n",
      "<option value='la'>latin</option>\n",
      "<option value='lv'>latvian</option>\n",
      "<option value='lt'>lithuanian</option>\n",
      "<option value='lb'>luxembourgish</option>\n",
      "<option value='mk'>macedonian</option>\n",
      "<option value='mg'>malagasy</option>\n",
      "<option value='ms'>malay</option>\n",
      "<option value='ml'>malayalam</option>\n",
      "<option value='mt'>maltese</option>\n",
      "<option value='mi'>maori</option>\n",
      "<option value='mr'>marathi</option>\n",
      "<option value='mn'>mongolian</option>\n",
      "<option value='my'>myanmar (burmese)</option>\n",
      "<option value='ne'>nepali</option>\n",
      "<option value='no'>norwegian</option>\n",
      "<option value='or'>odia</option>\n",
      "<option value='ps'>pashto</option>\n",
      "<option value='fa'>persian</option>\n",
      "<option value='pl'>polish</option>\n",
      "<option value='pt'>portuguese</option>\n",
      "<option value='pa'>punjabi</option>\n",
      "<option value='ro'>romanian</option>\n",
      "<option value='ru'>russian</option>\n",
      "<option value='sm'>samoan</option>\n",
      "<option value='gd'>scots gaelic</option>\n",
      "<option value='sr'>serbian</option>\n",
      "<option value='st'>sesotho</option>\n",
      "<option value='sn'>shona</option>\n",
      "<option value='sd'>sindhi</option>\n",
      "<option value='si'>sinhala</option>\n",
      "<option value='sk'>slovak</option>\n",
      "<option value='sl'>slovenian</option>\n",
      "<option value='so'>somali</option>\n",
      "<option value='es'>spanish</option>\n",
      "<option value='su'>sundanese</option>\n",
      "<option value='sw'>swahili</option>\n",
      "<option value='sv'>swedish</option>\n",
      "<option value='tg'>tajik</option>\n",
      "<option value='ta'>tamil</option>\n",
      "<option value='te'>telugu</option>\n",
      "<option value='th'>thai</option>\n",
      "<option value='tr'>turkish</option>\n",
      "<option value='uk'>ukrainian</option>\n",
      "<option value='ur'>urdu</option>\n",
      "<option value='ug'>uyghur</option>\n",
      "<option value='uz'>uzbek</option>\n",
      "<option value='vi'>vietnamese</option>\n",
      "<option value='cy'>welsh</option>\n",
      "<option value='xh'>xhosa</option>\n",
      "<option value='yi'>yiddish</option>\n",
      "<option value='yo'>yoruba</option>\n",
      "<option value='zu'>zulu</option>\n"
     ]
    }
   ],
   "source": [
    "for i,j in a.items():\n",
    "    print(f\"<option value='{i}'>{j}</option>\")"
   ]
  },
  {
   "cell_type": "markdown",
   "metadata": {},
   "source": [
    "# speech to text"
   ]
  },
  {
   "cell_type": "code",
   "execution_count": 2,
   "metadata": {},
   "outputs": [],
   "source": [
    "import speech_recognition as sr\n",
    "from playsound import playsound"
   ]
  },
  {
   "cell_type": "code",
   "execution_count": 3,
   "metadata": {},
   "outputs": [
    {
     "name": "stdout",
     "output_type": "stream",
     "text": [
      "speak\n",
      "time over\n",
      "hello hello\n"
     ]
    }
   ],
   "source": [
    "r=sr.Recognizer()\n",
    "with sr.Microphone() as src:\n",
    "    print(\"speak\")\n",
    "    audio=r.listen(src)\n",
    "    print(\"time over\")\n",
    "    try:\n",
    "        a=r.recognize_google(audio,language=\"en\")\n",
    "        print(a)\n",
    "    except:\n",
    "        pass"
   ]
  },
  {
   "cell_type": "code",
   "execution_count": 5,
   "metadata": {},
   "outputs": [
    {
     "name": "stdout",
     "output_type": "stream",
     "text": [
      "hello hello\n"
     ]
    }
   ],
   "source": [
    "r=sr.Recognizer()\n",
    "with sr.Microphone() as src:\n",
    "    playsound(\"say.mp3\")\n",
    "    audio=r.listen(src)\n",
    "    playsound(\"time1.mp3\")\n",
    "    a=r.recognize_google(audio,language=\"en\")\n",
    "    print(a)"
   ]
  },
  {
   "cell_type": "markdown",
   "metadata": {},
   "source": [
    "# text to speech"
   ]
  },
  {
   "cell_type": "code",
   "execution_count": 1,
   "metadata": {},
   "outputs": [],
   "source": [
    "from gtts import gTTS\n",
    "from playsound import playsound"
   ]
  },
  {
   "cell_type": "code",
   "execution_count": 2,
   "metadata": {},
   "outputs": [],
   "source": [
    "a=gTTS(\"please say something....\")\n",
    "a.save(\"say.mp3\")"
   ]
  },
  {
   "cell_type": "code",
   "execution_count": 21,
   "metadata": {},
   "outputs": [],
   "source": [
    "playsound(\"say.mp3\")"
   ]
  },
  {
   "cell_type": "code",
   "execution_count": 17,
   "metadata": {},
   "outputs": [],
   "source": [
    "a=gTTS(\"Time is over.....thank you\")\n",
    "a.save(\"time1.mp3\")"
   ]
  },
  {
   "cell_type": "code",
   "execution_count": 22,
   "metadata": {},
   "outputs": [],
   "source": [
    "playsound(\"time1.mp3\")"
   ]
  },
  {
   "cell_type": "code",
   "execution_count": null,
   "metadata": {},
   "outputs": [],
   "source": []
  }
 ],
 "metadata": {
  "kernelspec": {
   "display_name": "Python 3",
   "language": "python",
   "name": "python3"
  },
  "language_info": {
   "codemirror_mode": {
    "name": "ipython",
    "version": 3
   },
   "file_extension": ".py",
   "mimetype": "text/x-python",
   "name": "python",
   "nbconvert_exporter": "python",
   "pygments_lexer": "ipython3",
   "version": "3.6.5"
  }
 },
 "nbformat": 4,
 "nbformat_minor": 2
}
